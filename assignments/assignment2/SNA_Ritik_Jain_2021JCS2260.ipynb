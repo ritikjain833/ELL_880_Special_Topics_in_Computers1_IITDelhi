{
  "cells": [
    {
      "cell_type": "code",
      "execution_count": 1,
      "metadata": {
        "colab": {
          "base_uri": "https://localhost:8080/"
        },
        "id": "BjPkfIRhuszT",
        "outputId": "6e286d12-1d0d-4477-a8c4-a2cd69f9a072"
      },
      "outputs": [
        {
          "name": "stdout",
          "output_type": "stream",
          "text": [
            "Authority Score: Hub Score:\n",
            " 0.149300 \t 0.270300 \n",
            " 0.175900 \t 0.050900 \n",
            " 0.197700 \t 0.110900 \n",
            " 0.138500 \t 0.195500 \n",
            " 0.200100 \t 0.185000 \n",
            " 0.057400 \t 0.119100 \n",
            " 0.081000 \t 0.068200 \n"
          ]
        }
      ],
      "source": [
        "import numpy as np\n",
        "#class Node to create a new node and its initialize its attributes\n",
        "class Node:\n",
        "    def __init__(self, vertex):\n",
        "        self.vertex= vertex\n",
        "        self.children = []\n",
        "        self.parents = []\n",
        "        self.auth = 1.0\n",
        "        self.hub = 1.0\n",
        "#Class Graph for adding edges\n",
        "class Graph:\n",
        "    def __init__(self):\n",
        "        self.nodes = []\n",
        "\n",
        "    # if found the node return the node, else create and return new node \n",
        "    def find(self, vertex):\n",
        "        flag=False\n",
        "        for node in self.nodes:\n",
        "            if(node.vertex == vertex):\n",
        "                flag=True\n",
        "                break\n",
        "        if(flag==False):\n",
        "            new_node = Node(vertex)\n",
        "            self.nodes.append(new_node)\n",
        "            return new_node\n",
        "        else:\n",
        "            return next(node for node in self.nodes if node.vertex == vertex)\n",
        "\n",
        "    #add edge & add parent-child relationship and vice-versa.\n",
        "    def edge(self, parent, child):\n",
        "        parent_node = self.find(parent)\n",
        "        child_node = self.find(child)\n",
        "        parent_node.children.append(child_node)     \n",
        "        child_node.parents.append(parent_node)     \n",
        "#HITS function for authority score and hubscore\n",
        "def HITS(graph):\n",
        "    node_list = graph.nodes\n",
        "    #New auth = the sum of the hub of all of its parents\n",
        "    for node in node_list:\n",
        "        node.auth=sum(node.hub for node in node.parents)\n",
        "    #New hub = the sum of the auth of all of its children    \n",
        "    for node in node_list:\n",
        "        node.hub=sum(node.auth for node in node.children)\n",
        "    #normalize auth and hub\n",
        "    auth_sum = sum(node.auth for node in graph.nodes)\n",
        "    hub_sum = sum(node.hub for node in graph.nodes)\n",
        "\n",
        "    for node in graph.nodes:\n",
        "        node.auth /= auth_sum\n",
        "        node.hub /= hub_sum    \n",
        "  \n",
        "if __name__ == '__main__':\n",
        "    name=input(\"enter filename eg: small_graph.txt or large_graph.txt\\n\")\n",
        "    file=open(name,\"r\")\n",
        "    lines = file.readlines()\n",
        "    graph = Graph()\n",
        "    for line in lines:\n",
        "        [parent, child] = line.strip().split(',')\n",
        "        graph.edge(parent, child)\n",
        "    graph.nodes=sorted(graph.nodes,key=lambda node: int(node.vertex))\n",
        "    k=int(input(\"enter number of iterations \\n\"))\n",
        "    for i in range(k):\n",
        "      HITS(graph)\n",
        "    auth_list=[]\n",
        "    hub_list=[]  \n",
        "    n=len(graph.nodes)\n",
        "    for i in range(n):\n",
        "        auth_list.append([node.auth for node in graph.nodes])\n",
        "        hub_list.append([node.hub for node in graph.nodes])\n",
        "    auth_list = np.asarray([node.auth for node in graph.nodes], dtype='float32')\n",
        "    hub_list = np.asarray([node.hub for node in graph.nodes], dtype='float32')    \n",
        "    auth_list=np.round(auth_list, 4)\n",
        "    hub_list=np.round(hub_list, 4)\n",
        "    print(\"Authority Score: Hub Score:\")\n",
        "    n=len(auth_list)\n",
        "    #print(n)\n",
        "    for i in range(n):\n",
        "      print(\" %f \\t %f \"%( auth_list[i], hub_list[i]))\n",
        "     \n",
        "    \n",
        "    "
      ]
    },
    {
      "cell_type": "code",
      "execution_count": null,
      "metadata": {
        "id": "NGCWvqaFdwUq"
      },
      "outputs": [],
      "source": []
    }
  ],
  "metadata": {
    "colab": {
      "collapsed_sections": [],
      "name": "2021JCS2260_Ritik_Jain.ipynb",
      "provenance": []
    },
    "interpreter": {
      "hash": "0ac516125b3ee16d4eaa41f008fade7bad50b808bd1b6d74d2e8ae0015ba9066"
    },
    "kernelspec": {
      "display_name": "Python 3.9.5 64-bit",
      "name": "python3"
    },
    "language_info": {
      "codemirror_mode": {
        "name": "ipython",
        "version": 3
      },
      "file_extension": ".py",
      "mimetype": "text/x-python",
      "name": "python",
      "nbconvert_exporter": "python",
      "pygments_lexer": "ipython3",
      "version": "3.9.5"
    }
  },
  "nbformat": 4,
  "nbformat_minor": 0
}
